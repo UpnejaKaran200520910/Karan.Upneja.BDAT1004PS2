{
 "cells": [
  {
   "cell_type": "markdown",
   "id": "3184897e",
   "metadata": {
    "slideshow": {
     "slide_type": "slide"
    }
   },
   "source": [
    "Question 1"
   ]
  },
  {
   "cell_type": "markdown",
   "id": "81b7cbac",
   "metadata": {},
   "source": [
    "Answer : 6\n",
    "\n",
    "a become global when calling method b(). method b() internally calling method c which is adding 2 to variable a. and since a is global therefore 2 is being added to a everytime b() is called and since b() is called thrice and hence value for a will be 6"
   ]
  },
  {
   "cell_type": "markdown",
   "id": "b8c91b22",
   "metadata": {},
   "source": [
    "---------------------------------------------------------\n",
    "Question 2: "
   ]
  },
  {
   "cell_type": "code",
   "execution_count": 2,
   "id": "7401953c",
   "metadata": {},
   "outputs": [
    {
     "name": "stdout",
     "output_type": "stream",
     "text": [
      "File idterm.py not found\n"
     ]
    }
   ],
   "source": [
    "def file_length(file_name):\n",
    "    try:\n",
    "        file = open(file_name)\n",
    "        contents = file.read()\n",
    "        file.close()\n",
    "        print(len(contents))\n",
    "    except:\n",
    "        print('File {} not found'.format(file_name))\n",
    "        \n",
    "\n",
    "file_length('idterm.py')"
   ]
  },
  {
   "cell_type": "code",
   "execution_count": 3,
   "id": "08cbc769",
   "metadata": {},
   "outputs": [
    {
     "name": "stdout",
     "output_type": "stream",
     "text": [
      "0\n"
     ]
    }
   ],
   "source": [
    "file_length('midterm.py')"
   ]
  },
  {
   "cell_type": "markdown",
   "id": "03c5305b",
   "metadata": {},
   "source": [
    "------------------------------------\n",
    "Question 3:"
   ]
  },
  {
   "cell_type": "code",
   "execution_count": 4,
   "id": "8f894a8c",
   "metadata": {},
   "outputs": [],
   "source": [
    "class Marsupial:\n",
    "    def __init__(self):\n",
    "        self.pouch = []\n",
    "    \n",
    "    def put_in_pouch(self , element):\n",
    "        return self.pouch.append(element)\n",
    "    \n",
    "    def pouch_contents(self):\n",
    "        print(self.pouch)"
   ]
  },
  {
   "cell_type": "code",
   "execution_count": 5,
   "id": "ea827544",
   "metadata": {},
   "outputs": [],
   "source": [
    "m = Marsupial()\n",
    "m.put_in_pouch('doll')"
   ]
  },
  {
   "cell_type": "code",
   "execution_count": 6,
   "id": "7685bd07",
   "metadata": {},
   "outputs": [],
   "source": [
    "m.put_in_pouch('kitten')"
   ]
  },
  {
   "cell_type": "code",
   "execution_count": 7,
   "id": "6f2f1009",
   "metadata": {},
   "outputs": [],
   "source": [
    "m.put_in_pouch('firetruck')"
   ]
  },
  {
   "cell_type": "code",
   "execution_count": 8,
   "id": "f0125950",
   "metadata": {},
   "outputs": [
    {
     "name": "stdout",
     "output_type": "stream",
     "text": [
      "['doll', 'kitten', 'firetruck']\n"
     ]
    }
   ],
   "source": [
    "m.pouch_contents()"
   ]
  },
  {
   "cell_type": "code",
   "execution_count": 9,
   "id": "d518aeaa",
   "metadata": {},
   "outputs": [
    {
     "name": "stdout",
     "output_type": "stream",
     "text": [
      "I am a Kangaroo located at coordinates (0,0)\n",
      "['doll', 'firetruck', 'kitten']\n"
     ]
    }
   ],
   "source": [
    "class Kangaroo(Marsupial):\n",
    "    \n",
    "    def __init__(self, xcoord, ycoord):\n",
    "        super().__init__()\n",
    "        self.x = xcoord\n",
    "        self.y = ycoord\n",
    "    \n",
    "    def __str__(self):\n",
    "        return 'I am a Kangaroo located at coordinates ({},{})'.format(self.x,self.y)\n",
    "    \n",
    "    def jump(self, dx, dy):\n",
    "        self.x += dx\n",
    "        self.y += dy\n",
    "    \n",
    "k = Kangaroo(0,0)\n",
    "print(k)\n",
    "k.put_in_pouch('doll')\n",
    "k.put_in_pouch('firetruck')\n",
    "k.put_in_pouch('kitten')\n",
    "k.pouch_contents()"
   ]
  },
  {
   "cell_type": "code",
   "execution_count": 10,
   "id": "0f5784c0",
   "metadata": {},
   "outputs": [],
   "source": [
    "k.jump(1,0)\n",
    "k.jump(1,0)\n",
    "k.jump(1,0)"
   ]
  },
  {
   "cell_type": "code",
   "execution_count": 11,
   "id": "9428942f",
   "metadata": {},
   "outputs": [
    {
     "name": "stdout",
     "output_type": "stream",
     "text": [
      "I am a Kangaroo located at coordinates (3,0)\n"
     ]
    }
   ],
   "source": [
    "print(k)"
   ]
  },
  {
   "cell_type": "markdown",
   "id": "201bc3c6",
   "metadata": {},
   "source": [
    "------------------------------------------------------------------------\n",
    "Question 4: "
   ]
  },
  {
   "cell_type": "code",
   "execution_count": 12,
   "id": "1b7effa0",
   "metadata": {},
   "outputs": [
    {
     "name": "stdout",
     "output_type": "stream",
     "text": [
      "1\n"
     ]
    }
   ],
   "source": [
    "def collatz(x):\n",
    "    if x%2 == 0:\n",
    "        print(int(x))\n",
    "        collatz(x/2)\n",
    "    elif x == 1:\n",
    "        print(1)\n",
    "        return\n",
    "    else:\n",
    "        print(int(x))\n",
    "        collatz(3*x+1)\n",
    "    \n",
    "collatz(1)"
   ]
  },
  {
   "cell_type": "code",
   "execution_count": 13,
   "id": "9fd61300",
   "metadata": {},
   "outputs": [
    {
     "name": "stdout",
     "output_type": "stream",
     "text": [
      "10\n",
      "5\n",
      "16\n",
      "8\n",
      "4\n",
      "2\n",
      "1\n"
     ]
    }
   ],
   "source": [
    "collatz(10)"
   ]
  },
  {
   "cell_type": "markdown",
   "id": "c17ba9eb",
   "metadata": {},
   "source": [
    "----------------------------------------------------------\n",
    "Question 5:"
   ]
  },
  {
   "cell_type": "code",
   "execution_count": 14,
   "id": "65d49b8c",
   "metadata": {},
   "outputs": [
    {
     "name": "stdout",
     "output_type": "stream",
     "text": [
      "1001"
     ]
    }
   ],
   "source": [
    "def binary(n):\n",
    "    if n<2:\n",
    "        print (n,end = \"\")\n",
    "    else:\n",
    "        binary(int(n / 2))\n",
    "        print (n % 2,end = \"\")\n",
    "\n",
    "\n",
    "binary(9)"
   ]
  },
  {
   "cell_type": "markdown",
   "id": "d1dff198",
   "metadata": {},
   "source": [
    "------------------------------------------------\n",
    "Question 6:"
   ]
  },
  {
   "cell_type": "code",
   "execution_count": 25,
   "id": "933077be",
   "metadata": {},
   "outputs": [],
   "source": [
    "from html.parser import HTMLParser\n",
    "class HeadingParser(HTMLParser):\n",
    "    def __init__(self):\n",
    "        HTMLParser.__init__(self)  \n",
    "        self.isHeading = False\n",
    "        self.headingtag = None\n",
    "        \n",
    "    def handle_starttag(self, tag, attrs):\n",
    "        tags = ['h1', 'h2', 'h3', 'h4', 'h5', 'h6']\n",
    "        if tag in tags:\n",
    "            self.isHeading = True\n",
    "            self.headingtag = tag\n",
    "            \n",
    "    def handel_endtag(self, tag):\n",
    "        tags = ['h1', 'h2', 'h3', 'h4', 'h5', 'h6']\n",
    "        if tag in tags:\n",
    "            self.isHeading = False\n",
    "            self.headingtag = None\n",
    "    \n",
    "    def handle_data(self, data):\n",
    "        space = ' '\n",
    "        if self.isHeading and data.strip():\n",
    "            indent = int(self.headingtag[1]) - 1\n",
    "            print((space*indent) + data)"
   ]
  },
  {
   "cell_type": "code",
   "execution_count": 26,
   "id": "27be4de3",
   "metadata": {},
   "outputs": [
    {
     "name": "stdout",
     "output_type": "stream",
     "text": [
      "W3C Mission\n",
      " Principles\n"
     ]
    }
   ],
   "source": [
    "infile = open('w3c.html')\n",
    "content = infile.read()\n",
    "infile.close()\n",
    "hp = HeadingParser()\n",
    "hp.feed(content)"
   ]
  },
  {
   "cell_type": "markdown",
   "id": "4953d01c",
   "metadata": {},
   "source": [
    "------------------------------------------------\n",
    "Question 7:"
   ]
  },
  {
   "cell_type": "code",
   "execution_count": 42,
   "id": "fee99bb6",
   "metadata": {},
   "outputs": [],
   "source": [
    "from urllib.parse import urljoin\n",
    "from html.parser import HTMLParser\n",
    "class Collector(HTMLParser):\n",
    "\n",
    "    def __init__(self, url):\n",
    "        HTMLParser.__init__(self)\n",
    "        self.url = url\n",
    "        self.links = []\n",
    "\n",
    "    \n",
    "    def handle_starttag(self, tag, attrs):\n",
    "        if tag == 'a':\n",
    "            for attr in attrs:\n",
    "                if attr[0] == 'href':\n",
    "                    absolute = urljoin(self.url, attr[1])\n",
    "                    if absolute[:4] == 'http':\n",
    "                        self.links.append(absolute)\n",
    "                        \n",
    "    def getLinks(self):\n",
    "        return self.links"
   ]
  },
  {
   "cell_type": "code",
   "execution_count": 43,
   "id": "0cb65a20",
   "metadata": {},
   "outputs": [],
   "source": [
    "from urllib.request import urlopen\n",
    "from urllib.parse import urljoin\n",
    "\n",
    "from html.parser import HTMLParser\n",
    "\n",
    "def webdir(url, depth, indent):\n",
    "    space = ' '\n",
    "    print((space*indent) + url)\n",
    "    content = urlopen(url).read().decode()\n",
    "    collector = Collector(url)\n",
    "    collector.feed(content)\n",
    "    links = collector.getLinks()  \n",
    "    for link in links[:depth]:\n",
    "        try:\n",
    "            webdir(link, depth-1, indent+1)\n",
    "        except:\n",
    "            pass"
   ]
  },
  {
   "cell_type": "code",
   "execution_count": 44,
   "id": "02646cd1",
   "metadata": {},
   "outputs": [
    {
     "name": "stdout",
     "output_type": "stream",
     "text": [
      "http://reed.cs.depaul.edu/lperkovic/test1.html\n",
      " http://reed.cs.depaul.edu/lperkovic/test2.html\n",
      "  http://reed.cs.depaul.edu/lperkovic/test4.html\n",
      " http://reed.cs.depaul.edu/lperkovic/test3.html\n",
      "  http://reed.cs.depaul.edu/lperkovic/test4.html\n"
     ]
    }
   ],
   "source": [
    "webdir('http://reed.cs.depaul.edu/lperkovic/test1.html',2,0)"
   ]
  },
  {
   "cell_type": "markdown",
   "id": "b88c6a7b",
   "metadata": {},
   "source": [
    "---------------------------------------------------\n",
    "Question 8:"
   ]
  },
  {
   "cell_type": "code",
   "execution_count": 32,
   "id": "7ad6234c",
   "metadata": {},
   "outputs": [
    {
     "data": {
      "text/plain": [
       "<sqlite3.Cursor at 0x22477bbfb90>"
      ]
     },
     "execution_count": 32,
     "metadata": {},
     "output_type": "execute_result"
    }
   ],
   "source": [
    "import sqlite3\n",
    "\n",
    "connection = sqlite3.connect('web.db')\n",
    "cur = connection.cursor()\n",
    "\n",
    "cur.execute(\"CREATE TABLE ClimateData (City text, Country text, Season text, Temrature_C float, Rainfall_mm float)\")\n",
    "\n",
    "cur.execute(\"INSERT INTO ClimateData VALUES (?, ?, ?, ?, ?)\", ('Mumbai', 'India', 'Winter', 24.8, 5.9))\n",
    "cur.execute(\"INSERT INTO ClimateData VALUES (?, ?, ?, ?, ?)\", ('Mumbai', 'India', 'Spring', 28.4, 16.2))\n",
    "cur.execute(\"INSERT INTO ClimateData VALUES (?, ?, ?, ?, ?)\", ('Mumbai', 'India', 'Summer', 27.9, 1549.4))\n",
    "cur.execute(\"INSERT INTO ClimateData VALUES (?, ?, ?, ?, ?)\", ('Mumbai', 'India', 'Fall', 27.6, 346.0))\n",
    "cur.execute(\"INSERT INTO ClimateData VALUES (?, ?, ?, ?, ?)\", ('London', 'United Kingdom', 'Winter', 4.2, 207.7))\n",
    "cur.execute(\"INSERT INTO ClimateData VALUES (?, ?, ?, ?, ?)\", ('London', 'United Kingdom', 'Spring', 8.3, 169.6))\n",
    "cur.execute(\"INSERT INTO ClimateData VALUES (?, ?, ?, ?, ?)\", ('London', 'United Kingdom', 'Summer',15.7, 157.0))\n",
    "cur.execute(\"INSERT INTO ClimateData VALUES (?, ?, ?, ?, ?)\", ('London', 'United Kingdom', 'Fall',10.4, 218.5))\n",
    "cur.execute(\"INSERT INTO ClimateData VALUES (?, ?, ?, ?, ?)\", ('Cairo', 'Egypt', 'Winter', 13.6, 16.5))\n",
    "cur.execute(\"INSERT INTO ClimateData VALUES (?, ?, ?, ?, ?)\", ('Cairo', 'Egypt', 'Spring',20.7, 6.5))\n",
    "cur.execute(\"INSERT INTO ClimateData VALUES (?, ?, ?, ?, ?)\", ('Cairo', 'Egypt', 'Summer',27.7, 0.1))\n",
    "cur.execute(\"INSERT INTO ClimateData VALUES (?, ?, ?, ?, ?)\", ('Cairo', 'Egypt', 'Fall',22.5, 4.5))"
   ]
  },
  {
   "cell_type": "markdown",
   "id": "53d8f6dc",
   "metadata": {},
   "source": [
    "a: All the Temrature data"
   ]
  },
  {
   "cell_type": "code",
   "execution_count": 33,
   "id": "372e339c",
   "metadata": {},
   "outputs": [
    {
     "name": "stdout",
     "output_type": "stream",
     "text": [
      "[(24.8,), (28.4,), (27.9,), (27.6,), (4.2,), (8.3,), (15.7,), (10.4,), (13.6,), (20.7,), (27.7,), (22.5,)]\n"
     ]
    }
   ],
   "source": [
    "cur.execute('SELECT Temrature_c FROM ClimateData')\n",
    "print(cur.fetchall())"
   ]
  },
  {
   "cell_type": "markdown",
   "id": "21126777",
   "metadata": {},
   "source": [
    "b: All the cities, but without repetitions"
   ]
  },
  {
   "cell_type": "code",
   "execution_count": 34,
   "id": "acc2f5b5",
   "metadata": {},
   "outputs": [
    {
     "name": "stdout",
     "output_type": "stream",
     "text": [
      "[('Mumbai',), ('London',), ('Cairo',)]\n"
     ]
    }
   ],
   "source": [
    "cur.execute('SELECT DISTINCT City FROM ClimateData')\n",
    "print(cur.fetchall())"
   ]
  },
  {
   "cell_type": "markdown",
   "id": "8e9c5bdc",
   "metadata": {},
   "source": [
    "c: All the records for India"
   ]
  },
  {
   "cell_type": "code",
   "execution_count": 35,
   "id": "17389863",
   "metadata": {},
   "outputs": [
    {
     "name": "stdout",
     "output_type": "stream",
     "text": [
      "[('Mumbai', 'India', 'Winter', 24.8, 5.9), ('Mumbai', 'India', 'Spring', 28.4, 16.2), ('Mumbai', 'India', 'Summer', 27.9, 1549.4), ('Mumbai', 'India', 'Fall', 27.6, 346.0)]\n"
     ]
    }
   ],
   "source": [
    "country = 'India'\n",
    "cur.execute('SELECT * FROM ClimateData WHERE Country = ?', (country,))\n",
    "print(cur.fetchall())"
   ]
  },
  {
   "cell_type": "markdown",
   "id": "4ee3561d",
   "metadata": {},
   "source": [
    "d: All the Fall records."
   ]
  },
  {
   "cell_type": "code",
   "execution_count": 36,
   "id": "ccebaaab",
   "metadata": {},
   "outputs": [
    {
     "name": "stdout",
     "output_type": "stream",
     "text": [
      "[('Mumbai', 'India', 'Fall', 27.6, 346.0), ('London', 'United Kingdom', 'Fall', 10.4, 218.5), ('Cairo', 'Egypt', 'Fall', 22.5, 4.5)]\n"
     ]
    }
   ],
   "source": [
    "season = 'Fall'\n",
    "cur.execute('SELECT * FROM ClimateData WHERE Season = ?', (season,))\n",
    "print(cur.fetchall())"
   ]
  },
  {
   "cell_type": "markdown",
   "id": "bc312cba",
   "metadata": {},
   "source": [
    "e: The city, country and season for which average rainfall is between 200 and 400 mm"
   ]
  },
  {
   "cell_type": "code",
   "execution_count": 37,
   "id": "ee56c738",
   "metadata": {},
   "outputs": [
    {
     "name": "stdout",
     "output_type": "stream",
     "text": [
      "[('Mumbai', 'India', 'Fall'), ('London', 'United Kingdom', 'Winter'), ('London', 'United Kingdom', 'Fall')]\n"
     ]
    }
   ],
   "source": [
    "r1, r2 = 200.0, 400.0\n",
    "cur.execute('SELECT City, Country, Season FROM ClimateData WHERE Rainfall_mm BETWEEN ? AND ?', (r1,r2))\n",
    "print(cur.fetchall())"
   ]
  },
  {
   "cell_type": "markdown",
   "id": "f214c3dc",
   "metadata": {},
   "source": [
    "f: The city and country for which average fall temprature is above 20 degrees, in increasing temrature order"
   ]
  },
  {
   "cell_type": "code",
   "execution_count": 38,
   "id": "ca75541d",
   "metadata": {},
   "outputs": [
    {
     "name": "stdout",
     "output_type": "stream",
     "text": [
      "[('Cairo', 'Egypt'), ('Mumbai', 'India')]\n"
     ]
    }
   ],
   "source": [
    "season = 'Fall'\n",
    "temrature = 20\n",
    "cur.execute('SELECT City, Country FROM ClimateData Where Season = ? AND Temrature_c > ? ORDER BY Temrature_c', (season, temrature))\n",
    "print(cur.fetchall())"
   ]
  },
  {
   "cell_type": "markdown",
   "id": "b460d87e",
   "metadata": {},
   "source": [
    "g: the total annual rainfall for cario"
   ]
  },
  {
   "cell_type": "code",
   "execution_count": 41,
   "id": "dcdf5856",
   "metadata": {},
   "outputs": [
    {
     "name": "stdout",
     "output_type": "stream",
     "text": [
      "[('Cairo', 27.6)]\n"
     ]
    }
   ],
   "source": [
    "city = 'Cairo'\n",
    "cur.execute('SELECT city, SUM(Rainfall_mm) FROM ClimateData WHERE City = ? GROUP BY City', (city,))\n",
    "print(cur.fetchall())"
   ]
  },
  {
   "cell_type": "markdown",
   "id": "f72c58c0",
   "metadata": {},
   "source": [
    "h: the total rainfall for each season"
   ]
  },
  {
   "cell_type": "code",
   "execution_count": 40,
   "id": "ec5e6e02",
   "metadata": {},
   "outputs": [
    {
     "name": "stdout",
     "output_type": "stream",
     "text": [
      "[('Fall', 569.0), ('Spring', 192.29999999999998), ('Summer', 1706.5), ('Winter', 230.1)]\n"
     ]
    }
   ],
   "source": [
    "cur.execute('SELECT Season, Sum(Rainfall_mm) AS Total_Rainfall FROM ClimateData GROUP BY Season')\n",
    "print(cur.fetchall())"
   ]
  },
  {
   "cell_type": "markdown",
   "id": "f4e167bf",
   "metadata": {},
   "source": [
    "---------------------------------------------------------------\n",
    "Question 9:"
   ]
  },
  {
   "cell_type": "code",
   "execution_count": 17,
   "id": "a96e7572",
   "metadata": {},
   "outputs": [
    {
     "name": "stdout",
     "output_type": "stream",
     "text": [
      "['The', 'quick', 'brown', 'fox', 'jumps', 'over', 'the', 'lazy', 'dog']\n"
     ]
    }
   ],
   "source": [
    "words = ['The', 'quick', 'brown', 'fox', 'jumps', 'over', 'the', 'lazy', 'dog']\n",
    "print(words)"
   ]
  },
  {
   "cell_type": "markdown",
   "id": "61946403",
   "metadata": {},
   "source": [
    "a: "
   ]
  },
  {
   "cell_type": "code",
   "execution_count": 18,
   "id": "46887672",
   "metadata": {},
   "outputs": [
    {
     "name": "stdout",
     "output_type": "stream",
     "text": [
      "['THE', 'QUICK', 'BROWN', 'FOX', 'JUMPS', 'OVER', 'THE', 'LAZY', 'DOG']\n"
     ]
    }
   ],
   "source": [
    "Upper_Words = [word.upper() for word in words]\n",
    "print(Upper_Words)"
   ]
  },
  {
   "cell_type": "markdown",
   "id": "8ed50da2",
   "metadata": {},
   "source": [
    "b:"
   ]
  },
  {
   "cell_type": "code",
   "execution_count": 19,
   "id": "6e04c8fd",
   "metadata": {},
   "outputs": [
    {
     "name": "stdout",
     "output_type": "stream",
     "text": [
      "['the', 'quick', 'brown', 'fox', 'jumps', 'over', 'the', 'lazy', 'dog']\n"
     ]
    }
   ],
   "source": [
    "Lower_Words = [word.lower() for word in words]\n",
    "print(Lower_Words)"
   ]
  },
  {
   "cell_type": "markdown",
   "id": "71e92a3a",
   "metadata": {},
   "source": [
    "c: "
   ]
  },
  {
   "cell_type": "code",
   "execution_count": 22,
   "id": "2258a2f9",
   "metadata": {},
   "outputs": [
    {
     "name": "stdout",
     "output_type": "stream",
     "text": [
      "[3, 5, 5, 3, 5, 4, 3, 4, 3]\n"
     ]
    }
   ],
   "source": [
    "Length_Words = [len(word) for word in words]\n",
    "print(Length_Words)"
   ]
  },
  {
   "cell_type": "markdown",
   "id": "161381eb",
   "metadata": {},
   "source": [
    "d:"
   ]
  },
  {
   "cell_type": "code",
   "execution_count": 23,
   "id": "8e25b2bc",
   "metadata": {},
   "outputs": [
    {
     "name": "stdout",
     "output_type": "stream",
     "text": [
      "[('THE', 'the', 3), ('QUICK', 'quick', 5), ('BROWN', 'brown', 5), ('FOX', 'fox', 3), ('JUMPS', 'jumps', 5), ('OVER', 'over', 4), ('THE', 'the', 3), ('LAZY', 'lazy', 4), ('DOG', 'dog', 3)]\n"
     ]
    }
   ],
   "source": [
    "upper_lower_lenght_words = [(word.upper(), word.lower(), len(word)) for word in words]\n",
    "print(upper_lower_lenght_words)"
   ]
  },
  {
   "cell_type": "markdown",
   "id": "8a32aa3c",
   "metadata": {},
   "source": [
    "e: "
   ]
  },
  {
   "cell_type": "code",
   "execution_count": 24,
   "id": "55c65ec9",
   "metadata": {},
   "outputs": [
    {
     "name": "stdout",
     "output_type": "stream",
     "text": [
      "['quick', 'brown', 'jumps', 'over', 'lazy']\n"
     ]
    }
   ],
   "source": [
    "new_words = [word for word in words if len(word) >= 4]\n",
    "print(new_words)"
   ]
  }
 ],
 "metadata": {
  "kernelspec": {
   "display_name": "Python 3 (ipykernel)",
   "language": "python",
   "name": "python3"
  },
  "language_info": {
   "codemirror_mode": {
    "name": "ipython",
    "version": 3
   },
   "file_extension": ".py",
   "mimetype": "text/x-python",
   "name": "python",
   "nbconvert_exporter": "python",
   "pygments_lexer": "ipython3",
   "version": "3.9.12"
  }
 },
 "nbformat": 4,
 "nbformat_minor": 5
}
